{
 "cells": [
  {
   "cell_type": "code",
   "execution_count": null,
   "id": "777dcc2a",
   "metadata": {},
   "outputs": [],
   "source": [
    "import os\n",
    "import re\n",
    "import glob\n",
    "import utils\n",
    "import librosa\n",
    "import numpy as np\n",
    "import pandas as pd\n",
    "import soundfile as sf\n",
    "import os"
   ]
  },
  {
   "cell_type": "markdown",
   "id": "6f12cfe3",
   "metadata": {},
   "source": [
    "音頻倒轉"
   ]
  },
  {
   "cell_type": "code",
   "execution_count": null,
   "id": "dcc8470b",
   "metadata": {},
   "outputs": [],
   "source": [
    "def wave_flip(wave_data, output_dir, filename):\n",
    "    temp_wav_path = os.path.join(output_dir, f'{filename}_temp.wav')\n",
    "    sf.write(temp_wav_path, wave_data, fs, format=\"wav\")\n",
    "    \n",
    "    # 使用librosa.load載入.wav文件\n",
    "    y, sr = librosa.load(temp_wav_path)\n",
    "\n",
    "    # 反轉音頻數據\n",
    "    y_flip = np.flip(y)\n",
    "\n",
    "    sf.write(os.path.join(output_dir, f'{filename}_flip_1.wav'), y_flip, sr, format=\"wav\", subtype=\"PCM_16\", endian='little')\n",
    "\n",
    "sound_path_1 = os.path.abspath(r'/media/chiahong/TOS2/night/roll_flip_pitch/attack')\n",
    "sound_path_2 = os.path.abspath(r'/media/chiahong/TOS2/night/roll_flip_pitch')\n",
    "test_list3 = ['attack']\n",
    "output_dir = '/media/chiahong/TOS2/night/roll_flip_pitch/attack'\n",
    "for test in test_list3:\n",
    "    dir_path = os.path.join(sound_path_2, test)\n",
    "    dir_path_list = sorted(os.listdir(dir_path))\n",
    "    print(dir_path_list)\n",
    "    for filename in dir_path_list:\n",
    "        if filename.endswith('.wav'):\n",
    "            wave_path = os.path.join(sound_path_1, filename)\n",
    "            fs, wave_data = utils.read_wave_file(wave_path)\n",
    "            # 音頻倒轉\n",
    "            wave_flip(wave_data, output_dir, filename)"
   ]
  },
  {
   "cell_type": "markdown",
   "id": "b3827746",
   "metadata": {},
   "source": [
    "音頻加噪－白噪音"
   ]
  },
  {
   "cell_type": "code",
   "execution_count": null,
   "id": "933adb54",
   "metadata": {},
   "outputs": [],
   "source": [
    "def wave_noise(wave_data, output_dir, filename):\n",
    "    temp_wav_path = os.path.join(output_dir, f'{filename}_temp.wav')\n",
    "    sf.write(temp_wav_path, wave_data, fs, format=\"wav\")\n",
    "    \n",
    "    # 使用librosa.load載入.wav文件\n",
    "    y, sr = librosa.load(temp_wav_path)\n",
    "    wn = np. random. randn (len (y) )\n",
    "    y = np.where(y != 0.0, y.astype('float64') + 0.02 * wn, 0.0) .astype (np. float32)\n",
    "    sf.write(os.path.join(output_dir, f'{filename}_noise_1.wav'), y, sr, format=\"wav\", subtype=\"PCM_16\", endian='little')\n",
    "\n",
    "sound_path_1 = os.path.abspath(r'/media/chihli/TOS/attack_noise')\n",
    "sound_path_2 = os.path.abspath(r'/media/chihli/TOS')\n",
    "test_list3 = ['attack_noise']\n",
    "output_dir = '/media/chihli/TOS/attack_noise'\n",
    "for test in test_list3:\n",
    "    dir_path = os.path.join(sound_path_2, test)\n",
    "    dir_path_list = sorted(os.listdir(dir_path))\n",
    "    print(dir_path_list)\n",
    "    for filename in dir_path_list:\n",
    "        if filename.endswith('.wav'):\n",
    "            wave_path = os.path.join(sound_path_1, filename)\n",
    "            fs, wave_data = utils.read_wave_file(wave_path)\n",
    "            # 调用数据增强函数，并传递输出目录和文件名\n",
    "            wave_noise(wave_data, output_dir, filename)"
   ]
  },
  {
   "cell_type": "markdown",
   "id": "81aa805f",
   "metadata": {},
   "source": [
    "音頻旋轉平移"
   ]
  },
  {
   "cell_type": "code",
   "execution_count": null,
   "id": "9ad62ade",
   "metadata": {},
   "outputs": [],
   "source": [
    "def wav_roll(wave_data, output_dir, filename):\n",
    "    # 將音頻數據.wav文件包存到指定資料夾\n",
    "    temp_wav_path = os.path.join(output_dir, f'{filename}_temp.wav')\n",
    "    sf.write(temp_wav_path, wave_data, fs, format=\"wav\", subtype=\"PCM_16\")\n",
    "    \n",
    "    # 使用librosa.load載入.wav文件\n",
    "    y, sr = librosa.load(temp_wav_path)\n",
    "    \n",
    "    # 進行滾動操作\n",
    "    y = np.roll(y, sr * 2)\n",
    "    \n",
    "    # 保存處理後的音頻文件\n",
    "    sf.write(os.path.join(output_dir, f'{filename}_roll_2.wav'), y, sr, format=\"wav\", subtype=\"PCM_16\")\n",
    "\n",
    "sound_path_1 = os.path.abspath(r'/media/chiahong/TOS2/night/roll_filp_pitch/attack_roll')\n",
    "sound_path_2 = os.path.abspath(r'/media/chiahong/TOS2/night/roll_filp_pitch')\n",
    "test_list3 = ['attack_roll']\n",
    "output_dir = '/media/chiahong/TOS2/night/roll_filp_pitch/attack_roll'\n",
    "for test in test_list3:\n",
    "    dir_path = os.path.join(sound_path_2, test)\n",
    "    dir_path_list = sorted(os.listdir(dir_path))\n",
    "    print(dir_path_list)\n",
    "    for filename in dir_path_list:\n",
    "        if filename.endswith('.wav'):\n",
    "            wave_path = os.path.join(sound_path_1, filename)\n",
    "            fs, wave_data = utils.read_wave_file(wave_path)\n",
    "            # 音頻旋轉(平移)\n",
    "            wav_roll(wave_data, output_dir, filename)"
   ]
  },
  {
   "cell_type": "markdown",
   "id": "0701f58e",
   "metadata": {},
   "source": [
    "音頻調高音調"
   ]
  },
  {
   "cell_type": "code",
   "execution_count": null,
   "id": "1e6ad686",
   "metadata": {},
   "outputs": [],
   "source": [
    "def wav_pitch(wave_data, output_dir, filename):\n",
    "    # 將音頻數據.wav文件包存到指定資料夾\n",
    "    temp_wav_path = os.path.join(output_dir, f'{filename}_temp.wav')\n",
    "    sf.write(temp_wav_path, wave_data, fs, format=\"wav\")\n",
    "    \n",
    "    # 使用librosa.load加載入.wav文件\n",
    "    y, sr = librosa.load(temp_wav_path)\n",
    "    \n",
    "    for step1 in [1]:\n",
    "        y = librosa.effects.pitch_shift(y, sr, n_steps = step1)\n",
    "    \n",
    "    # 保存處理後的音頻文件\n",
    "        sf.write(os.path.join(output_dir, f'{filename}_pitch_{step1}.wav'), y, sr, format=\"wav\", subtype=\"PCM_16\", endian='little')\n",
    "\n",
    "sound_path_1 = os.path.abspath(r'/media/chiahong/TOS2/night/roll_filp_pitch/normal_pitch')\n",
    "sound_path_2 = os.path.abspath(r'/media/chiahong/TOS2/night/roll_filp_pitch')\n",
    "test_list3 = ['normal_pitch']\n",
    "output_dir = '/media/chiahong/TOS2/night/roll_filp_pitch/normal_pitch'\n",
    "for test in test_list3:\n",
    "    dir_path = os.path.join(sound_path_2, test)\n",
    "    dir_path_list = sorted(os.listdir(dir_path))\n",
    "    print(dir_path_list)\n",
    "    for filename in dir_path_list:\n",
    "        if filename.endswith('.wav'):\n",
    "            wave_path = os.path.join(sound_path_1, filename)\n",
    "            fs, wave_data = utils.read_wave_file(wave_path)\n",
    "            # 音頻調高音調\n",
    "            wav_pitch(wave_data, output_dir, filename)"
   ]
  }
 ],
 "metadata": {
  "language_info": {
   "name": "python"
  }
 },
 "nbformat": 4,
 "nbformat_minor": 5
}
